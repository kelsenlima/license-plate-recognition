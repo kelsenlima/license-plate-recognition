{
 "cells": [
  {
   "cell_type": "markdown",
   "id": "c5aea5d0",
   "metadata": {},
   "source": [
    "# 0. Dependências"
   ]
  },
  {
   "cell_type": "code",
   "execution_count": null,
   "id": "baa98224",
   "metadata": {},
   "outputs": [],
   "source": [
    "!pip install easyocr\n",
    "!pip install imutils"
   ]
  },
  {
   "cell_type": "code",
   "execution_count": null,
   "id": "316d6240",
   "metadata": {},
   "outputs": [],
   "source": [
    "import cv2\n",
    "from matplotlib import pyplot as plt\n",
    "import numpy as np\n",
    "import imutils\n",
    "import easyocr"
   ]
  },
  {
   "cell_type": "markdown",
   "id": "82a10f10",
   "metadata": {},
   "source": [
    "# 1. Lendo a imagem"
   ]
  },
  {
   "cell_type": "code",
   "execution_count": null,
   "id": "c3705115",
   "metadata": {},
   "outputs": [],
   "source": [
    "img = cv2.imread('image1.jpg')\n",
    "gray = cv2.cvtColor(img, cv2.COLOR_BGR2GRAY)\n",
    "plt.imshow(cv2.cvtColor(gray, cv2.COLOR_BGR2RGB))"
   ]
  },
  {
   "cell_type": "markdown",
   "id": "b027ee55",
   "metadata": {},
   "source": [
    "# 2. Aplicando filtros"
   ]
  },
  {
   "cell_type": "code",
   "execution_count": null,
   "id": "17a9ea18",
   "metadata": {},
   "outputs": [],
   "source": [
    "bfilter = cv2.bilateralFilter(gray, 11, 17, 17) #Redução de ruído\n",
    "edged = cv2.Canny(bfilter, 30, 200) #Detecção de borda\n",
    "plt.imshow(cv2.cvtColor(edged, cv2.COLOR_BGR2RGB))"
   ]
  },
  {
   "cell_type": "markdown",
   "id": "202b9268",
   "metadata": {},
   "source": [
    "# 3. Aplicando máscaras"
   ]
  },
  {
   "cell_type": "code",
   "execution_count": null,
   "id": "4f7b8a0d",
   "metadata": {},
   "outputs": [],
   "source": [
    "keypoints = cv2.findContours(edged.copy(), cv2.RETR_TREE, cv2.CHAIN_APPROX_SIMPLE)\n",
    "contours = imutils.grab_contours(keypoints)\n",
    "contours = sorted(contours, key=cv2.contourArea, reverse=True)[:10]"
   ]
  },
  {
   "cell_type": "code",
   "execution_count": null,
   "id": "6a713573",
   "metadata": {},
   "outputs": [],
   "source": [
    "location = None\n",
    "for contour in contours:\n",
    "    approx = cv2.approxPolyDP(contour, 10, True)\n",
    "    if len(approx) == 4:\n",
    "        location = approx\n",
    "        break"
   ]
  },
  {
   "cell_type": "code",
   "execution_count": null,
   "id": "79f9338d",
   "metadata": {},
   "outputs": [],
   "source": [
    "location"
   ]
  },
  {
   "cell_type": "code",
   "execution_count": null,
   "id": "5fe6c893",
   "metadata": {},
   "outputs": [],
   "source": [
    "mask = np.zeros(gray.shape, np.uint8)\n",
    "new_image = cv2.drawContours(mask, [location], 0,255, -1)\n",
    "new_image = cv2.bitwise_and(img, img, mask=mask)"
   ]
  },
  {
   "cell_type": "code",
   "execution_count": null,
   "id": "5317f9c7",
   "metadata": {},
   "outputs": [],
   "source": [
    "plt.imshow(cv2.cvtColor(new_image, cv2.COLOR_BGR2RGB))"
   ]
  },
  {
   "cell_type": "code",
   "execution_count": null,
   "id": "b9242171",
   "metadata": {},
   "outputs": [],
   "source": [
    "(x,y) = np.where(mask==255)\n",
    "(x1, y1) = (np.min(x), np.min(y))\n",
    "(x2, y2) = (np.max(x), np.max(y))\n",
    "cropped_image = gray[x1:x2+1, y1:y2+1]"
   ]
  },
  {
   "cell_type": "code",
   "execution_count": null,
   "id": "597b9e17",
   "metadata": {},
   "outputs": [],
   "source": [
    "plt.imshow(cv2.cvtColor(cropped_image, cv2.COLOR_BGR2RGB))"
   ]
  },
  {
   "cell_type": "markdown",
   "id": "4f9c3dc0",
   "metadata": {},
   "source": [
    "# 4. Usando OCR para ler"
   ]
  },
  {
   "cell_type": "code",
   "execution_count": null,
   "id": "bf9abc26",
   "metadata": {},
   "outputs": [],
   "source": [
    "reader = easyocr.Reader(['pt'])\n",
    "result = reader.readtext(cropped_image)\n",
    "result"
   ]
  },
  {
   "cell_type": "markdown",
   "id": "df062fc3",
   "metadata": {},
   "source": [
    "# 5. Lendo resultados"
   ]
  },
  {
   "cell_type": "code",
   "execution_count": null,
   "id": "eb96c505",
   "metadata": {},
   "outputs": [],
   "source": [
    "text = result[0][-2]\n",
    "font = cv2.FONT_HERSHEY_SIMPLEX\n",
    "res = cv2.putText(img, text=text, org=(approx[0][0][0], approx[1][0][1]+60), fontFace=font, fontScale=1, color=(0,255,0), thickness=2, lineType=cv2.LINE_AA)\n",
    "res = cv2.rectangle(img, tuple(approx[0][0]), tuple(approx[2][0]), (0,255,0),3)\n",
    "plt.imshow(cv2.cvtColor(res, cv2.COLOR_BGR2RGB))"
   ]
  },
  {
   "cell_type": "code",
   "execution_count": null,
   "id": "fd72e450",
   "metadata": {},
   "outputs": [],
   "source": []
  }
 ],
 "metadata": {
  "kernelspec": {
   "display_name": "Python 3",
   "language": "python",
   "name": "python3"
  },
  "language_info": {
   "codemirror_mode": {
    "name": "ipython",
    "version": 3
   },
   "file_extension": ".py",
   "mimetype": "text/x-python",
   "name": "python",
   "nbconvert_exporter": "python",
   "pygments_lexer": "ipython3",
   "version": "3.9.5"
  }
 },
 "nbformat": 4,
 "nbformat_minor": 5
}
